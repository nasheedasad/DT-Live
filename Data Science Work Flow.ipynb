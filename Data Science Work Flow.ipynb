{
 "cells": [
  {
   "cell_type": "markdown",
   "metadata": {},
   "source": [
    "1. Data Selection\n",
    "2. Data Description: A story of what data is all about and the features present in the data\n",
    "3. Performing both Statistical and Graphical Data Analysis\n",
    "4. Data Transformation and derivations of new attributes if necessary\n",
    "5. Selection of a ML algorithm based on patterns observed in EDA\n",
    "6. Data Standardization & Normalization\n",
    "7. Creation of Train and Test data sets using optimum parameters\n",
    "8. Model training using ML algorithm tested above\n",
    "9. Calculation of model accuracy: Both train and test accuracies\n",
    "10. Hyperparameter tuning to achieve a better accuracy\n",
    "11. Saving the created model file\n",
    "12. Deployment strategies for the model (Live stream/Batch/Mini batch)\n",
    "13. Production deployment and testing\n",
    "14. Finalizing the retraining approach\n",
    "15. Logging and monitoring (Maintaining the audit tables)\n",
    "16. Dashboard for monitoring and logging reports"
   ]
  },
  {
   "cell_type": "code",
   "execution_count": null,
   "metadata": {},
   "outputs": [],
   "source": []
  }
 ],
 "metadata": {
  "kernelspec": {
   "display_name": "Python 3",
   "language": "python",
   "name": "python3"
  },
  "language_info": {
   "codemirror_mode": {
    "name": "ipython",
    "version": 3
   },
   "file_extension": ".py",
   "mimetype": "text/x-python",
   "name": "python",
   "nbconvert_exporter": "python",
   "pygments_lexer": "ipython3",
   "version": "3.8.5"
  }
 },
 "nbformat": 4,
 "nbformat_minor": 4
}
