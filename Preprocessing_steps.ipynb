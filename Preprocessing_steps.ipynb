{
 "cells": [
  {
   "cell_type": "markdown",
   "metadata": {},
   "source": [
    "### Preprocessing and model building important steps"
   ]
  },
  {
   "cell_type": "markdown",
   "metadata": {},
   "source": [
    "1. Data Cleaning\n",
    "2. NaN Treatment:\n",
    "- SI\n",
    "- KNNImputer\n",
    "- Iteartive\n",
    "3. EDA\n",
    "4. Outlier Removal:\n",
    "- Zscore\n",
    "- Quantile\n",
    "- DBSCAN or Kmeans\n",
    "- Log/Power transformation\n",
    "5. Encoding:\n",
    "- Label Encoder\n",
    "- OHE\n",
    "- get_dummies\n",
    "6. Multicollinearity:\n",
    "- Using correlation coefficient\n",
    "- VIF\n",
    "- Scatterplot\n",
    "7. Feature selection or dimension reduction\n",
    "- SelectKbest\n",
    "- SelectPercentile\n",
    "- VarianceThreshold\n",
    "- Forward Feature Selection\n",
    "- PCA\n",
    "    "
   ]
  },
  {
   "cell_type": "code",
   "execution_count": null,
   "metadata": {},
   "outputs": [],
   "source": []
  }
 ],
 "metadata": {
  "kernelspec": {
   "display_name": "Python 3",
   "language": "python",
   "name": "python3"
  },
  "language_info": {
   "codemirror_mode": {
    "name": "ipython",
    "version": 3
   },
   "file_extension": ".py",
   "mimetype": "text/x-python",
   "name": "python",
   "nbconvert_exporter": "python",
   "pygments_lexer": "ipython3",
   "version": "3.8.5"
  }
 },
 "nbformat": 4,
 "nbformat_minor": 4
}
